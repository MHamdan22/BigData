{
 "cells": [
  {
   "cell_type": "code",
   "execution_count": 13,
   "metadata": {},
   "outputs": [
    {
     "name": "stdout",
     "output_type": "stream",
     "text": [
      "Connection Established!\n",
      "{'name': 'Harry S. Truman', 'start': 1945}\n",
      "{'name': 'Lyndon B. Johnson', 'start': 1963}\n",
      "{'name': 'John F. Kennedy', 'start': 1961}\n",
      "{'name': 'Jimmy Carter', 'start': 1977}\n",
      "{'name': 'Bill Clinton', 'start': 1993}\n",
      "{'name': 'Barack Obama', 'start': 2009}\n"
     ]
    }
   ],
   "source": [
    "import pymongo\n",
    "from pymongo import MongoClient\n",
    "\n",
    "try:\n",
    "    con = MongoClient(\"mongodb://localhost:27017\")\n",
    "    db = con.politics\n",
    "    print(\"Connection Established!\")\n",
    "except:\n",
    "    print(\"Not Connected!\")\n",
    "    \n",
    "query = db.presidents.find({\"political party\":\"Democratic\"},{\"name\":1, \"start\":1,\"_id\":0})\n",
    "for e in query:\n",
    "    print(e)"
   ]
  },
  {
   "cell_type": "code",
   "execution_count": null,
   "metadata": {},
   "outputs": [],
   "source": []
  },
  {
   "cell_type": "code",
   "execution_count": null,
   "metadata": {},
   "outputs": [],
   "source": []
  }
 ],
 "metadata": {
  "kernelspec": {
   "display_name": "Python 3",
   "language": "python",
   "name": "python3"
  },
  "language_info": {
   "codemirror_mode": {
    "name": "ipython",
    "version": 3
   },
   "file_extension": ".py",
   "mimetype": "text/x-python",
   "name": "python",
   "nbconvert_exporter": "python",
   "pygments_lexer": "ipython3",
   "version": "3.7.3"
  }
 },
 "nbformat": 4,
 "nbformat_minor": 2
}
